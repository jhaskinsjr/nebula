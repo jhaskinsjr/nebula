{
 "cells": [
  {
   "cell_type": "markdown",
   "metadata": {},
   "source": [
    "# Initialization"
   ]
  },
  {
   "cell_type": "code",
   "execution_count": 2,
   "metadata": {},
   "outputs": [],
   "source": [
    "import pymongo\n",
    "import functools\n",
    "import itertools\n",
    "import numpy as np\n",
    "import pandas as pd\n",
    "from IPython.display import display, HTML"
   ]
  },
  {
   "cell_type": "code",
   "execution_count": 3,
   "metadata": {},
   "outputs": [],
   "source": [
    "conn = pymongo.MongoClient('mongodb://lily.local:27017')"
   ]
  },
  {
   "cell_type": "markdown",
   "metadata": {},
   "source": [
    "# Analysis"
   ]
  },
  {
   "cell_type": "markdown",
   "metadata": {},
   "source": [
    "## `l1ic_size.exec`\n",
    "\n",
    "Let's build a Pandas `DataFrame` of the execution cycle counts of all the L1I$ configuration runs that completed successfully."
   ]
  },
  {
   "cell_type": "code",
   "execution_count": 12,
   "metadata": {},
   "outputs": [
    {
     "data": {
      "text/html": [
       "<table border=\"1\" class=\"dataframe\">\n",
       "  <thead>\n",
       "    <tr style=\"text-align: right;\">\n",
       "      <th></th>\n",
       "      <th></th>\n",
       "      <th></th>\n",
       "      <th></th>\n",
       "      <th></th>\n",
       "      <th>cycle</th>\n",
       "      <th>correct_answer</th>\n",
       "    </tr>\n",
       "    <tr>\n",
       "      <th>pipeline</th>\n",
       "      <th>nsets</th>\n",
       "      <th>nways</th>\n",
       "      <th>nbytesperblock</th>\n",
       "      <th>replacement</th>\n",
       "      <th></th>\n",
       "      <th></th>\n",
       "    </tr>\n",
       "  </thead>\n",
       "  <tbody>\n",
       "    <tr>\n",
       "      <th rowspan=\"8\" valign=\"top\">pipelines/lime</th>\n",
       "      <th rowspan=\"4\" valign=\"top\">16</th>\n",
       "      <th rowspan=\"2\" valign=\"top\">2</th>\n",
       "      <th rowspan=\"2\" valign=\"top\">16</th>\n",
       "      <th>lru</th>\n",
       "      <td>13709</td>\n",
       "      <td>True</td>\n",
       "    </tr>\n",
       "    <tr>\n",
       "      <th>random</th>\n",
       "      <td>13865</td>\n",
       "      <td>True</td>\n",
       "    </tr>\n",
       "    <tr>\n",
       "      <th rowspan=\"2\" valign=\"top\">4</th>\n",
       "      <th rowspan=\"2\" valign=\"top\">16</th>\n",
       "      <th>lru</th>\n",
       "      <td>13458</td>\n",
       "      <td>True</td>\n",
       "    </tr>\n",
       "    <tr>\n",
       "      <th>random</th>\n",
       "      <td>13638</td>\n",
       "      <td>True</td>\n",
       "    </tr>\n",
       "    <tr>\n",
       "      <th rowspan=\"4\" valign=\"top\">64</th>\n",
       "      <th rowspan=\"2\" valign=\"top\">2</th>\n",
       "      <th rowspan=\"2\" valign=\"top\">16</th>\n",
       "      <th>lru</th>\n",
       "      <td>13275</td>\n",
       "      <td>True</td>\n",
       "    </tr>\n",
       "    <tr>\n",
       "      <th>random</th>\n",
       "      <td>13330</td>\n",
       "      <td>True</td>\n",
       "    </tr>\n",
       "    <tr>\n",
       "      <th rowspan=\"2\" valign=\"top\">4</th>\n",
       "      <th rowspan=\"2\" valign=\"top\">16</th>\n",
       "      <th>lru</th>\n",
       "      <td>13203</td>\n",
       "      <td>True</td>\n",
       "    </tr>\n",
       "    <tr>\n",
       "      <th>random</th>\n",
       "      <td>13253</td>\n",
       "      <td>True</td>\n",
       "    </tr>\n",
       "    <tr>\n",
       "      <th rowspan=\"8\" valign=\"top\">pipelines/oroblanco</th>\n",
       "      <th rowspan=\"4\" valign=\"top\">16</th>\n",
       "      <th rowspan=\"2\" valign=\"top\">2</th>\n",
       "      <th rowspan=\"2\" valign=\"top\">16</th>\n",
       "      <th>lru</th>\n",
       "      <td>15654</td>\n",
       "      <td>True</td>\n",
       "    </tr>\n",
       "    <tr>\n",
       "      <th>random</th>\n",
       "      <td>15771</td>\n",
       "      <td>True</td>\n",
       "    </tr>\n",
       "    <tr>\n",
       "      <th rowspan=\"2\" valign=\"top\">4</th>\n",
       "      <th rowspan=\"2\" valign=\"top\">16</th>\n",
       "      <th>lru</th>\n",
       "      <td>15226</td>\n",
       "      <td>True</td>\n",
       "    </tr>\n",
       "    <tr>\n",
       "      <th>random</th>\n",
       "      <td>15411</td>\n",
       "      <td>True</td>\n",
       "    </tr>\n",
       "    <tr>\n",
       "      <th rowspan=\"4\" valign=\"top\">64</th>\n",
       "      <th rowspan=\"2\" valign=\"top\">2</th>\n",
       "      <th rowspan=\"2\" valign=\"top\">16</th>\n",
       "      <th>lru</th>\n",
       "      <td>14972</td>\n",
       "      <td>True</td>\n",
       "    </tr>\n",
       "    <tr>\n",
       "      <th>random</th>\n",
       "      <td>15131</td>\n",
       "      <td>True</td>\n",
       "    </tr>\n",
       "    <tr>\n",
       "      <th rowspan=\"2\" valign=\"top\">4</th>\n",
       "      <th rowspan=\"2\" valign=\"top\">16</th>\n",
       "      <th>lru</th>\n",
       "      <td>14915</td>\n",
       "      <td>True</td>\n",
       "    </tr>\n",
       "    <tr>\n",
       "      <th>random</th>\n",
       "      <td>15024</td>\n",
       "      <td>True</td>\n",
       "    </tr>\n",
       "    <tr>\n",
       "      <th rowspan=\"16\" valign=\"top\">pipelines/pompia</th>\n",
       "      <th rowspan=\"8\" valign=\"top\">16</th>\n",
       "      <th rowspan=\"4\" valign=\"top\">2</th>\n",
       "      <th rowspan=\"2\" valign=\"top\">16</th>\n",
       "      <th>lru</th>\n",
       "      <td>16112</td>\n",
       "      <td>True</td>\n",
       "    </tr>\n",
       "    <tr>\n",
       "      <th>random</th>\n",
       "      <td>16028</td>\n",
       "      <td>True</td>\n",
       "    </tr>\n",
       "    <tr>\n",
       "      <th rowspan=\"2\" valign=\"top\">32</th>\n",
       "      <th>lru</th>\n",
       "      <td>16622</td>\n",
       "      <td>True</td>\n",
       "    </tr>\n",
       "    <tr>\n",
       "      <th>random</th>\n",
       "      <td>16699</td>\n",
       "      <td>True</td>\n",
       "    </tr>\n",
       "    <tr>\n",
       "      <th rowspan=\"4\" valign=\"top\">4</th>\n",
       "      <th rowspan=\"2\" valign=\"top\">16</th>\n",
       "      <th>lru</th>\n",
       "      <td>15746</td>\n",
       "      <td>True</td>\n",
       "    </tr>\n",
       "    <tr>\n",
       "      <th>random</th>\n",
       "      <td>15941</td>\n",
       "      <td>True</td>\n",
       "    </tr>\n",
       "    <tr>\n",
       "      <th rowspan=\"2\" valign=\"top\">32</th>\n",
       "      <th>lru</th>\n",
       "      <td>16592</td>\n",
       "      <td>True</td>\n",
       "    </tr>\n",
       "    <tr>\n",
       "      <th>random</th>\n",
       "      <td>16633</td>\n",
       "      <td>True</td>\n",
       "    </tr>\n",
       "    <tr>\n",
       "      <th rowspan=\"8\" valign=\"top\">64</th>\n",
       "      <th rowspan=\"4\" valign=\"top\">2</th>\n",
       "      <th rowspan=\"2\" valign=\"top\">16</th>\n",
       "      <th>lru</th>\n",
       "      <td>15645</td>\n",
       "      <td>True</td>\n",
       "    </tr>\n",
       "    <tr>\n",
       "      <th>random</th>\n",
       "      <td>15766</td>\n",
       "      <td>True</td>\n",
       "    </tr>\n",
       "    <tr>\n",
       "      <th rowspan=\"2\" valign=\"top\">32</th>\n",
       "      <th>lru</th>\n",
       "      <td>16593</td>\n",
       "      <td>True</td>\n",
       "    </tr>\n",
       "    <tr>\n",
       "      <th>random</th>\n",
       "      <td>16551</td>\n",
       "      <td>True</td>\n",
       "    </tr>\n",
       "    <tr>\n",
       "      <th rowspan=\"4\" valign=\"top\">4</th>\n",
       "      <th rowspan=\"2\" valign=\"top\">16</th>\n",
       "      <th>lru</th>\n",
       "      <td>15621</td>\n",
       "      <td>True</td>\n",
       "    </tr>\n",
       "    <tr>\n",
       "      <th>random</th>\n",
       "      <td>15731</td>\n",
       "      <td>True</td>\n",
       "    </tr>\n",
       "    <tr>\n",
       "      <th rowspan=\"2\" valign=\"top\">32</th>\n",
       "      <th>lru</th>\n",
       "      <td>16613</td>\n",
       "      <td>True</td>\n",
       "    </tr>\n",
       "    <tr>\n",
       "      <th>random</th>\n",
       "      <td>16613</td>\n",
       "      <td>True</td>\n",
       "    </tr>\n",
       "    <tr>\n",
       "      <th rowspan=\"16\" valign=\"top\">pipelines/rangpur</th>\n",
       "      <th rowspan=\"8\" valign=\"top\">16</th>\n",
       "      <th rowspan=\"4\" valign=\"top\">2</th>\n",
       "      <th rowspan=\"2\" valign=\"top\">16</th>\n",
       "      <th>lru</th>\n",
       "      <td>17197</td>\n",
       "      <td>True</td>\n",
       "    </tr>\n",
       "    <tr>\n",
       "      <th>random</th>\n",
       "      <td>17290</td>\n",
       "      <td>True</td>\n",
       "    </tr>\n",
       "    <tr>\n",
       "      <th rowspan=\"2\" valign=\"top\">32</th>\n",
       "      <th>lru</th>\n",
       "      <td>18076</td>\n",
       "      <td>True</td>\n",
       "    </tr>\n",
       "    <tr>\n",
       "      <th>random</th>\n",
       "      <td>18095</td>\n",
       "      <td>True</td>\n",
       "    </tr>\n",
       "    <tr>\n",
       "      <th rowspan=\"4\" valign=\"top\">4</th>\n",
       "      <th rowspan=\"2\" valign=\"top\">16</th>\n",
       "      <th>lru</th>\n",
       "      <td>17010</td>\n",
       "      <td>True</td>\n",
       "    </tr>\n",
       "    <tr>\n",
       "      <th>random</th>\n",
       "      <td>17247</td>\n",
       "      <td>True</td>\n",
       "    </tr>\n",
       "    <tr>\n",
       "      <th rowspan=\"2\" valign=\"top\">32</th>\n",
       "      <th>lru</th>\n",
       "      <td>18011</td>\n",
       "      <td>True</td>\n",
       "    </tr>\n",
       "    <tr>\n",
       "      <th>random</th>\n",
       "      <td>18114</td>\n",
       "      <td>True</td>\n",
       "    </tr>\n",
       "    <tr>\n",
       "      <th rowspan=\"8\" valign=\"top\">64</th>\n",
       "      <th rowspan=\"4\" valign=\"top\">2</th>\n",
       "      <th rowspan=\"2\" valign=\"top\">16</th>\n",
       "      <th>lru</th>\n",
       "      <td>17069</td>\n",
       "      <td>True</td>\n",
       "    </tr>\n",
       "    <tr>\n",
       "      <th>random</th>\n",
       "      <td>17068</td>\n",
       "      <td>True</td>\n",
       "    </tr>\n",
       "    <tr>\n",
       "      <th rowspan=\"2\" valign=\"top\">32</th>\n",
       "      <th>lru</th>\n",
       "      <td>17928</td>\n",
       "      <td>True</td>\n",
       "    </tr>\n",
       "    <tr>\n",
       "      <th>random</th>\n",
       "      <td>18010</td>\n",
       "      <td>True</td>\n",
       "    </tr>\n",
       "    <tr>\n",
       "      <th rowspan=\"4\" valign=\"top\">4</th>\n",
       "      <th rowspan=\"2\" valign=\"top\">16</th>\n",
       "      <th>lru</th>\n",
       "      <td>16978</td>\n",
       "      <td>True</td>\n",
       "    </tr>\n",
       "    <tr>\n",
       "      <th>random</th>\n",
       "      <td>17040</td>\n",
       "      <td>True</td>\n",
       "    </tr>\n",
       "    <tr>\n",
       "      <th rowspan=\"2\" valign=\"top\">32</th>\n",
       "      <th>lru</th>\n",
       "      <td>17791</td>\n",
       "      <td>True</td>\n",
       "    </tr>\n",
       "    <tr>\n",
       "      <th>random</th>\n",
       "      <td>17889</td>\n",
       "      <td>True</td>\n",
       "    </tr>\n",
       "  </tbody>\n",
       "</table>"
      ],
      "text/plain": [
       "<IPython.core.display.HTML object>"
      ]
     },
     "metadata": {},
     "output_type": "display_data"
    },
    {
     "name": "stdout",
     "output_type": "stream",
     "text": [
      "        cycle correct_answer\n",
      "count      48             48\n",
      "unique     47              1\n",
      "top     16613           True\n",
      "freq        2             48\n"
     ]
    }
   ],
   "source": [
    "_correct_answer = '7' # command: ../../examples/bin/sum 2 3 -5 7\n",
    "_tmp_df = pd.DataFrame({\n",
    "    (w.get('pipeline'),) + tuple(map(lambda y: y[1], filter(lambda x: 'fetch' in x[0], w.get('config').items()))): [w.get('stats').get('cycle'), w.get('stdout').strip() == _correct_answer]\n",
    "    for w in conn.nebula.l1ic_size.find({'cmdline': {'$regex': 'sum'}})\n",
    "}).T.reset_index().rename(columns={\n",
    "    'level_0': 'pipeline',\n",
    "    'level_1': 'nsets',\n",
    "    'level_2': 'nways',\n",
    "    'level_3': 'nbytesperblock',\n",
    "    'level_4': 'replacement',\n",
    "    0: 'cycle',\n",
    "    1: 'correct_answer'\n",
    "}).set_index(['pipeline', 'nsets', 'nways', 'nbytesperblock', 'replacement'])\n",
    "_correct_df = _tmp_df.loc[_tmp_df.correct_answer == True].sort_index()\n",
    "display(HTML(_correct_df.to_html()))\n",
    "print(_correct_df.describe())"
   ]
  },
  {
   "cell_type": "markdown",
   "metadata": {},
   "source": [
    "## `watchdog.exec`\n",
    "\n",
    "Did the `watchdog.py` component successfully detect violation of the watch condition? For the Bergamot simulations, the watch event was `commit`, and the watchdog is supposed to signal a violation if 10 or more cycles elapse between consecutive `commit` events."
   ]
  },
  {
   "cell_type": "code",
   "execution_count": 5,
   "metadata": {},
   "outputs": [
    {
     "data": {
      "text/plain": [
       "dict_keys(['_id', 'sha', 'branch', 'exec_script', 'exitcode', 'stats', 'log', 'config', 'runpath', 'pipeline', 'script', 'cmdline', 'stdout', 'stderr', 'date', 'time'])"
      ]
     },
     "execution_count": 5,
     "metadata": {},
     "output_type": "execute_result"
    }
   ],
   "source": [
    "conn.nebula.watchdog.find_one().keys()"
   ]
  },
  {
   "cell_type": "code",
   "execution_count": 6,
   "metadata": {},
   "outputs": [
    {
     "name": "stdout",
     "output_type": "stream",
     "text": [
      "config : {'service': 'mainmem', 'field': 'peek_latency_in_cycles', 'val': 25}\n",
      "config : {'service': 'mainmem', 'field': 'filename', 'val': '/tmp/mainmem.raw'}\n",
      "config : {'service': 'mainmem', 'field': 'capacity', 'val': 4294967296}\n",
      "config : {'service': 'stats', 'field': 'output_filename', 'val': '/tmp/stats.json'}\n",
      "config : {'service': 'l2', 'field': 'l2_hitlatency', 'val': 1}\n",
      "config : {'service': 'mainmem', 'field': 'peek_latency_in_cycles', 'val': 10}\n",
      "config : {'service': 'mainmem', 'field': 'capacity', 'val': 4297967296}\n",
      "config : {'service': 'watchdog', 'field': 'event_name', 'val': 'commit'}\n",
      "config : {'service': 'watchdog', 'field': 'event_cycles', 'val': 10}\n",
      "config : {'service': 'stats', 'field': 'output_filename', 'val': '/home/john/src/nebula/tmp/runs/994a8928-cba2-454c-a70e-065a45feccf0/stats.json'}\n",
      "config : {'service': 'mainmem', 'field': 'filename', 'val': '/home/john/src/nebula/tmp/runs/994a8928-cba2-454c-a70e-065a45feccf0/mainmem.raw'}\n",
      "Watchdog violation!\n",
      "\tstate.cycle                : 31\n",
      "\tstate.config.event_name    : commit\n",
      "\tstate.config.event_cycles  : 10\n",
      "\tstate.config.result_name   : None\n",
      "\tstate.config.result_cycles : None\n",
      "\tstate.last                 : {'commit': 18}\n",
      "\n"
     ]
    }
   ],
   "source": [
    "print(conn.nebula.watchdog.find_one().get('log').get('0000_watchdog.py.log'))"
   ]
  },
  {
   "cell_type": "markdown",
   "metadata": {},
   "source": [
    "## `quick_*.exec`\n",
    "\n",
    "Which of these tests failed to generate a correct result for the `negate`, `sort`, and `sum` example binaries?"
   ]
  },
  {
   "cell_type": "code",
   "execution_count": 7,
   "metadata": {},
   "outputs": [
    {
     "name": "stdout",
     "output_type": "stream",
     "text": [
      "-1328184490 (11) : pipelines/clementine python3 /home/john/src/nebula/launcher.py  --log /home/john/src/nebula/tmp/runs/51c36f39-32ed-4e36-9270-9f3fde9bffa9/log --service /home/john/src/nebula/toolbox/stats.py:localhost:-1 implementation/mainmem.py:localhost:-1 --max_cycles 100000   --config mainmem:peek_latency_in_cycles:1 mainmem:capacity:4297967296 stats:output_filename:/home/john/src/nebula/tmp/runs/51c36f39-32ed-4e36-9270-9f3fde9bffa9/stats.json mainmem:filename:/home/john/src/nebula/tmp/runs/51c36f39-32ed-4e36-9270-9f3fde9bffa9/mainmem.raw -- 10004 /home/john/src/nebula/pipelines/clementine/init.nebula ../../examples/bin/negate 2\n",
      "-1328184490 (11) : pipelines/clementine python3 /home/john/src/nebula/launcher.py  --log /home/john/src/nebula/tmp/runs/506b0ef2-c392-4b90-8057-adfd857a1c8c/log --service /home/john/src/nebula/toolbox/stats.py:localhost:-1 implementation/mainmem.py:localhost:-1 --max_cycles 100000   --config mainmem:peek_latency_in_cycles:5 mainmem:capacity:4297967296 stats:output_filename:/home/john/src/nebula/tmp/runs/506b0ef2-c392-4b90-8057-adfd857a1c8c/stats.json mainmem:filename:/home/john/src/nebula/tmp/runs/506b0ef2-c392-4b90-8057-adfd857a1c8c/mainmem.raw -- 10005 /home/john/src/nebula/pipelines/clementine/init.nebula ../../examples/bin/negate 2\n",
      "-1328184490 (11) : pipelines/clementine python3 /home/john/src/nebula/launcher.py  --log /home/john/src/nebula/tmp/runs/6591822e-4eb6-4563-ac5a-5c1fc11dfe73/log --service /home/john/src/nebula/toolbox/stats.py:localhost:-1 implementation/mainmem.py:localhost:-1 --max_cycles 100000   --config mainmem:peek_latency_in_cycles:25 mainmem:capacity:4297967296 stats:output_filename:/home/john/src/nebula/tmp/runs/6591822e-4eb6-4563-ac5a-5c1fc11dfe73/stats.json mainmem:filename:/home/john/src/nebula/tmp/runs/6591822e-4eb6-4563-ac5a-5c1fc11dfe73/mainmem.raw -- 10006 /home/john/src/nebula/pipelines/clementine/init.nebula ../../examples/bin/negate 2\n"
     ]
    }
   ],
   "source": [
    "_correct_answer = '-2' # command: ../../examples/bin/negate 2\n",
    "_quick = conn.nebula.quick.find({'cmdline': {'$regex': 'negate'}})\n",
    "for _q in _quick:\n",
    "    _answer = _q.get('stdout').strip()\n",
    "    if _correct_answer != _answer:\n",
    "        print('{} ({}) : {} {}'.format(_answer, len(_answer), _q.get('pipeline'), _q.get('cmdline')))"
   ]
  },
  {
   "cell_type": "code",
   "execution_count": 8,
   "metadata": {},
   "outputs": [
    {
     "name": "stdout",
     "output_type": "stream",
     "text": [
      " (0) : pipelines/bergamot python3 /home/john/src/nebula/launcher.py  --log /home/john/src/nebula/tmp/runs/e5d59334-0962-4c14-80df-cb37e3e60086/log --service /home/john/src/nebula/toolbox/stats.py:localhost:-1 implementation/mainmem.py:localhost:-1 --max_cycles 500000   --config mainmem:peek_latency_in_cycles:25 mainmem:capacity:4297967296 stats:output_filename:/home/john/src/nebula/tmp/runs/e5d59334-0962-4c14-80df-cb37e3e60086/stats.json mainmem:filename:/home/john/src/nebula/tmp/runs/e5d59334-0962-4c14-80df-cb37e3e60086/mainmem.raw -- 10003 /home/john/src/nebula/pipelines/bergamot/init.nebula ../../examples/bin/sort 2 -3 5\n",
      "-1328184490 -1328184490 -1328184490 (35) : pipelines/clementine python3 /home/john/src/nebula/launcher.py  --log /home/john/src/nebula/tmp/runs/1b55622f-5e21-418b-a1d1-5054d01e7c2d/log --service /home/john/src/nebula/toolbox/stats.py:localhost:-1 implementation/mainmem.py:localhost:-1 --max_cycles 500000   --config mainmem:peek_latency_in_cycles:1 mainmem:capacity:4297967296 stats:output_filename:/home/john/src/nebula/tmp/runs/1b55622f-5e21-418b-a1d1-5054d01e7c2d/stats.json mainmem:filename:/home/john/src/nebula/tmp/runs/1b55622f-5e21-418b-a1d1-5054d01e7c2d/mainmem.raw -- 10004 /home/john/src/nebula/pipelines/clementine/init.nebula ../../examples/bin/sort 2 -3 5\n",
      "-1328184490 -1328184490 -1328184490 (35) : pipelines/clementine python3 /home/john/src/nebula/launcher.py  --log /home/john/src/nebula/tmp/runs/e3438691-e420-4b52-8036-d2180145bb36/log --service /home/john/src/nebula/toolbox/stats.py:localhost:-1 implementation/mainmem.py:localhost:-1 --max_cycles 500000   --config mainmem:peek_latency_in_cycles:5 mainmem:capacity:4297967296 stats:output_filename:/home/john/src/nebula/tmp/runs/e3438691-e420-4b52-8036-d2180145bb36/stats.json mainmem:filename:/home/john/src/nebula/tmp/runs/e3438691-e420-4b52-8036-d2180145bb36/mainmem.raw -- 10005 /home/john/src/nebula/pipelines/clementine/init.nebula ../../examples/bin/sort 2 -3 5\n",
      "-1328184490 -1328184490 -1328184490 (35) : pipelines/clementine python3 /home/john/src/nebula/launcher.py  --log /home/john/src/nebula/tmp/runs/720a1c65-8dbc-4bf1-b470-87ed26044340/log --service /home/john/src/nebula/toolbox/stats.py:localhost:-1 implementation/mainmem.py:localhost:-1 --max_cycles 500000   --config mainmem:peek_latency_in_cycles:25 mainmem:capacity:4297967296 stats:output_filename:/home/john/src/nebula/tmp/runs/720a1c65-8dbc-4bf1-b470-87ed26044340/stats.json mainmem:filename:/home/john/src/nebula/tmp/runs/720a1c65-8dbc-4bf1-b470-87ed26044340/mainmem.raw -- 10006 /home/john/src/nebula/pipelines/clementine/init.nebula ../../examples/bin/sort 2 -3 5\n",
      "-1328184490 -480 -480 (21) : pipelines/lime python3 /home/john/src/nebula/launcher.py  --log /home/john/src/nebula/tmp/runs/9d5adbf4-a4db-43ad-8175-dc940c81bce1/log --service /home/john/src/nebula/toolbox/stats.py:localhost:-1 implementation/mainmem.py:localhost:-1 --max_cycles 500000   --config l2:l2_hitlatency:1 mainmem:peek_latency_in_cycles:1 mainmem:capacity:4297967296 stats:output_filename:/home/john/src/nebula/tmp/runs/9d5adbf4-a4db-43ad-8175-dc940c81bce1/stats.json mainmem:filename:/home/john/src/nebula/tmp/runs/9d5adbf4-a4db-43ad-8175-dc940c81bce1/mainmem.raw -- 10007 /home/john/src/nebula/pipelines/lime/init.nebula ../../examples/bin/sort 2 -3 5\n",
      "-1328184490 -480 -480 (21) : pipelines/lime python3 /home/john/src/nebula/launcher.py  --log /home/john/src/nebula/tmp/runs/43fdcd2b-37de-46d1-a38e-469b075ae62b/log --service /home/john/src/nebula/toolbox/stats.py:localhost:-1 implementation/mainmem.py:localhost:-1 --max_cycles 500000   --config l2:l2_hitlatency:1 mainmem:peek_latency_in_cycles:5 mainmem:capacity:4297967296 stats:output_filename:/home/john/src/nebula/tmp/runs/43fdcd2b-37de-46d1-a38e-469b075ae62b/stats.json mainmem:filename:/home/john/src/nebula/tmp/runs/43fdcd2b-37de-46d1-a38e-469b075ae62b/mainmem.raw -- 10008 /home/john/src/nebula/pipelines/lime/init.nebula ../../examples/bin/sort 2 -3 5\n",
      "-1328184490 -480 -480 (21) : pipelines/lime python3 /home/john/src/nebula/launcher.py  --log /home/john/src/nebula/tmp/runs/0a5cbb6b-b21e-4c08-9e13-6782f65ca53b/log --service /home/john/src/nebula/toolbox/stats.py:localhost:-1 implementation/mainmem.py:localhost:-1 --max_cycles 500000   --config l2:l2_hitlatency:1 mainmem:peek_latency_in_cycles:25 mainmem:capacity:4297967296 stats:output_filename:/home/john/src/nebula/tmp/runs/0a5cbb6b-b21e-4c08-9e13-6782f65ca53b/stats.json mainmem:filename:/home/john/src/nebula/tmp/runs/0a5cbb6b-b21e-4c08-9e13-6782f65ca53b/mainmem.raw -- 10009 /home/john/src/nebula/pipelines/lime/init.nebula ../../examples/bin/sort 2 -3 5\n",
      "-1328184490 -1328184490 -1328184490 (35) : pipelines/lime python3 /home/john/src/nebula/launcher.py  --log /home/john/src/nebula/tmp/runs/ab177922-5d74-4dd6-ab0e-d7b6b22de3d9/log --service /home/john/src/nebula/toolbox/stats.py:localhost:-1 implementation/mainmem.py:localhost:-1 --max_cycles 500000   --config l2:l2_hitlatency:5 mainmem:peek_latency_in_cycles:1 mainmem:capacity:4297967296 stats:output_filename:/home/john/src/nebula/tmp/runs/ab177922-5d74-4dd6-ab0e-d7b6b22de3d9/stats.json mainmem:filename:/home/john/src/nebula/tmp/runs/ab177922-5d74-4dd6-ab0e-d7b6b22de3d9/mainmem.raw -- 10010 /home/john/src/nebula/pipelines/lime/init.nebula ../../examples/bin/sort 2 -3 5\n",
      "-1328184490 -1328184490 -1328184490 (35) : pipelines/lime python3 /home/john/src/nebula/launcher.py  --log /home/john/src/nebula/tmp/runs/879ae153-2e3d-4325-ac9b-ad31ef322efd/log --service /home/john/src/nebula/toolbox/stats.py:localhost:-1 implementation/mainmem.py:localhost:-1 --max_cycles 500000   --config l2:l2_hitlatency:5 mainmem:peek_latency_in_cycles:5 mainmem:capacity:4297967296 stats:output_filename:/home/john/src/nebula/tmp/runs/879ae153-2e3d-4325-ac9b-ad31ef322efd/stats.json mainmem:filename:/home/john/src/nebula/tmp/runs/879ae153-2e3d-4325-ac9b-ad31ef322efd/mainmem.raw -- 10011 /home/john/src/nebula/pipelines/lime/init.nebula ../../examples/bin/sort 2 -3 5\n",
      "-1328184490 -1328184490 -1328184490 (35) : pipelines/lime python3 /home/john/src/nebula/launcher.py  --log /home/john/src/nebula/tmp/runs/2c3f06bd-7ca8-4abd-ae52-1bc061bc6d3f/log --service /home/john/src/nebula/toolbox/stats.py:localhost:-1 implementation/mainmem.py:localhost:-1 --max_cycles 500000   --config l2:l2_hitlatency:5 mainmem:peek_latency_in_cycles:25 mainmem:capacity:4297967296 stats:output_filename:/home/john/src/nebula/tmp/runs/2c3f06bd-7ca8-4abd-ae52-1bc061bc6d3f/stats.json mainmem:filename:/home/john/src/nebula/tmp/runs/2c3f06bd-7ca8-4abd-ae52-1bc061bc6d3f/mainmem.raw -- 10012 /home/john/src/nebula/pipelines/lime/init.nebula ../../examples/bin/sort 2 -3 5\n",
      "-1328184490 -1328184490 -1328184490 \u0000 (37) : pipelines/oroblanco python3 /home/john/src/nebula/launcher.py  --log /home/john/src/nebula/tmp/runs/039500db-08d7-4c0a-a2c0-0aff434a3983/log --service /home/john/src/nebula/toolbox/stats.py:localhost:-1 implementation/mainmem.py:localhost:-1 --max_cycles 500000   --config l2:l2_hitlatency:1 mainmem:peek_latency_in_cycles:1 mainmem:capacity:4297967296 stats:output_filename:/home/john/src/nebula/tmp/runs/039500db-08d7-4c0a-a2c0-0aff434a3983/stats.json mainmem:filename:/home/john/src/nebula/tmp/runs/039500db-08d7-4c0a-a2c0-0aff434a3983/mainmem.raw -- 10013 /home/john/src/nebula/pipelines/oroblanco/init.nebula ../../examples/bin/sort 2 -3 5\n",
      "-1328184490 -1328184490 -1328184490 \u0000 (37) : pipelines/oroblanco python3 /home/john/src/nebula/launcher.py  --log /home/john/src/nebula/tmp/runs/5566bec1-7021-42f5-b96f-a1df7e9f0e95/log --service /home/john/src/nebula/toolbox/stats.py:localhost:-1 implementation/mainmem.py:localhost:-1 --max_cycles 500000   --config l2:l2_hitlatency:1 mainmem:peek_latency_in_cycles:5 mainmem:capacity:4297967296 stats:output_filename:/home/john/src/nebula/tmp/runs/5566bec1-7021-42f5-b96f-a1df7e9f0e95/stats.json mainmem:filename:/home/john/src/nebula/tmp/runs/5566bec1-7021-42f5-b96f-a1df7e9f0e95/mainmem.raw -- 10014 /home/john/src/nebula/pipelines/oroblanco/init.nebula ../../examples/bin/sort 2 -3 5\n",
      "-1328184490 -1328184490 -1328184490 \u0000 (37) : pipelines/oroblanco python3 /home/john/src/nebula/launcher.py  --log /home/john/src/nebula/tmp/runs/791e32b5-562f-4019-b3a1-1986b2c22aa9/log --service /home/john/src/nebula/toolbox/stats.py:localhost:-1 implementation/mainmem.py:localhost:-1 --max_cycles 500000   --config l2:l2_hitlatency:1 mainmem:peek_latency_in_cycles:25 mainmem:capacity:4297967296 stats:output_filename:/home/john/src/nebula/tmp/runs/791e32b5-562f-4019-b3a1-1986b2c22aa9/stats.json mainmem:filename:/home/john/src/nebula/tmp/runs/791e32b5-562f-4019-b3a1-1986b2c22aa9/mainmem.raw -- 10015 /home/john/src/nebula/pipelines/oroblanco/init.nebula ../../examples/bin/sort 2 -3 5\n",
      "-1328184490 -1328184490 -1328184490 \u0000 (37) : pipelines/oroblanco python3 /home/john/src/nebula/launcher.py  --log /home/john/src/nebula/tmp/runs/d3f855ca-0b87-462c-83c7-502a90ebc244/log --service /home/john/src/nebula/toolbox/stats.py:localhost:-1 implementation/mainmem.py:localhost:-1 --max_cycles 500000   --config l2:l2_hitlatency:5 mainmem:peek_latency_in_cycles:1 mainmem:capacity:4297967296 stats:output_filename:/home/john/src/nebula/tmp/runs/d3f855ca-0b87-462c-83c7-502a90ebc244/stats.json mainmem:filename:/home/john/src/nebula/tmp/runs/d3f855ca-0b87-462c-83c7-502a90ebc244/mainmem.raw -- 10016 /home/john/src/nebula/pipelines/oroblanco/init.nebula ../../examples/bin/sort 2 -3 5\n",
      "-1328184490 -1328184490 -1328184490 \u0000 (37) : pipelines/oroblanco python3 /home/john/src/nebula/launcher.py  --log /home/john/src/nebula/tmp/runs/4c577a46-823d-4ca2-9109-fbd3422ec4e3/log --service /home/john/src/nebula/toolbox/stats.py:localhost:-1 implementation/mainmem.py:localhost:-1 --max_cycles 500000   --config l2:l2_hitlatency:5 mainmem:peek_latency_in_cycles:5 mainmem:capacity:4297967296 stats:output_filename:/home/john/src/nebula/tmp/runs/4c577a46-823d-4ca2-9109-fbd3422ec4e3/stats.json mainmem:filename:/home/john/src/nebula/tmp/runs/4c577a46-823d-4ca2-9109-fbd3422ec4e3/mainmem.raw -- 10017 /home/john/src/nebula/pipelines/oroblanco/init.nebula ../../examples/bin/sort 2 -3 5\n",
      "-1328184490 -1328184490 -1328184490 \u0000 (37) : pipelines/oroblanco python3 /home/john/src/nebula/launcher.py  --log /home/john/src/nebula/tmp/runs/2b7c2672-c065-4ae0-84b8-a0dd5a4839ca/log --service /home/john/src/nebula/toolbox/stats.py:localhost:-1 implementation/mainmem.py:localhost:-1 --max_cycles 500000   --config l2:l2_hitlatency:5 mainmem:peek_latency_in_cycles:25 mainmem:capacity:4297967296 stats:output_filename:/home/john/src/nebula/tmp/runs/2b7c2672-c065-4ae0-84b8-a0dd5a4839ca/stats.json mainmem:filename:/home/john/src/nebula/tmp/runs/2b7c2672-c065-4ae0-84b8-a0dd5a4839ca/mainmem.raw -- 10018 /home/john/src/nebula/pipelines/oroblanco/init.nebula ../../examples/bin/sort 2 -3 5\n"
     ]
    }
   ],
   "source": [
    "_correct_answer = '-3 2 5' # command: ../../examples/bin/sort 2 -3 5\n",
    "_quick = conn.nebula.quick.find({'cmdline': {'$regex': 'sort'}})\n",
    "for _q in _quick:\n",
    "    _answer = _q.get('stdout').strip()\n",
    "    if _correct_answer != _answer:\n",
    "        print('{} ({}) : {} {}'.format(_answer, len(_answer), _q.get('pipeline'), _q.get('cmdline')))"
   ]
  },
  {
   "cell_type": "code",
   "execution_count": 9,
   "metadata": {},
   "outputs": [
    {
     "name": "stdout",
     "output_type": "stream",
     "text": [
      "-1328184490 (11) : pipelines/clementine python3 /home/john/src/nebula/launcher.py  --log /home/john/src/nebula/tmp/runs/44cbe603-81e0-4f21-bc3e-dfa4a5d9ddaf/log --service /home/john/src/nebula/toolbox/stats.py:localhost:-1 implementation/mainmem.py:localhost:-1 --max_cycles 100000   --config mainmem:peek_latency_in_cycles:1 mainmem:capacity:4297967296 stats:output_filename:/home/john/src/nebula/tmp/runs/44cbe603-81e0-4f21-bc3e-dfa4a5d9ddaf/stats.json mainmem:filename:/home/john/src/nebula/tmp/runs/44cbe603-81e0-4f21-bc3e-dfa4a5d9ddaf/mainmem.raw -- 10004 /home/john/src/nebula/pipelines/clementine/init.nebula ../../examples/bin/sum 2 3\n",
      "-1328184490 (11) : pipelines/clementine python3 /home/john/src/nebula/launcher.py  --log /home/john/src/nebula/tmp/runs/5b5c03ca-d4a8-47ce-8aa2-6e68e410a140/log --service /home/john/src/nebula/toolbox/stats.py:localhost:-1 implementation/mainmem.py:localhost:-1 --max_cycles 100000   --config mainmem:peek_latency_in_cycles:5 mainmem:capacity:4297967296 stats:output_filename:/home/john/src/nebula/tmp/runs/5b5c03ca-d4a8-47ce-8aa2-6e68e410a140/stats.json mainmem:filename:/home/john/src/nebula/tmp/runs/5b5c03ca-d4a8-47ce-8aa2-6e68e410a140/mainmem.raw -- 10005 /home/john/src/nebula/pipelines/clementine/init.nebula ../../examples/bin/sum 2 3\n",
      "-1328184490 (11) : pipelines/clementine python3 /home/john/src/nebula/launcher.py  --log /home/john/src/nebula/tmp/runs/2bc4c89c-7e96-4bda-81f7-a85b63f686b6/log --service /home/john/src/nebula/toolbox/stats.py:localhost:-1 implementation/mainmem.py:localhost:-1 --max_cycles 100000   --config mainmem:peek_latency_in_cycles:25 mainmem:capacity:4297967296 stats:output_filename:/home/john/src/nebula/tmp/runs/2bc4c89c-7e96-4bda-81f7-a85b63f686b6/stats.json mainmem:filename:/home/john/src/nebula/tmp/runs/2bc4c89c-7e96-4bda-81f7-a85b63f686b6/mainmem.raw -- 10006 /home/john/src/nebula/pipelines/clementine/init.nebula ../../examples/bin/sum 2 3\n"
     ]
    }
   ],
   "source": [
    "_correct_answer = '5' # command: ../../examples/bin/sum 2 3\n",
    "_quick = conn.nebula.quick.find({'cmdline': {'$regex': 'sum'}})\n",
    "for _q in _quick:\n",
    "    _answer = _q.get('stdout').strip()\n",
    "    if _correct_answer != _answer:\n",
    "        print('{} ({}) : {} {}'.format(_answer, len(_answer), _q.get('pipeline'), _q.get('cmdline')))"
   ]
  },
  {
   "cell_type": "markdown",
   "metadata": {},
   "source": [
    "# Scratchpad"
   ]
  },
  {
   "cell_type": "code",
   "execution_count": 10,
   "metadata": {},
   "outputs": [
    {
     "ename": "AssertionError",
     "evalue": "Scratchpad area!",
     "output_type": "error",
     "traceback": [
      "\u001b[0;31m---------------------------------------------------------------------------\u001b[0m",
      "\u001b[0;31mAssertionError\u001b[0m                            Traceback (most recent call last)",
      "Cell \u001b[0;32mIn[10], line 1\u001b[0m\n\u001b[0;32m----> 1\u001b[0m \u001b[39massert\u001b[39;00m \u001b[39mFalse\u001b[39;00m, \u001b[39m'\u001b[39m\u001b[39mScratchpad area!\u001b[39m\u001b[39m'\u001b[39m\n",
      "\u001b[0;31mAssertionError\u001b[0m: Scratchpad area!"
     ]
    }
   ],
   "source": [
    "assert False, 'Scratchpad area!'"
   ]
  },
  {
   "cell_type": "code",
   "execution_count": 11,
   "metadata": {},
   "outputs": [
    {
     "data": {
      "text/plain": [
       "<pymongo.results.DeleteResult at 0x7f9d3c230730>"
      ]
     },
     "execution_count": 11,
     "metadata": {},
     "output_type": "execute_result"
    }
   ],
   "source": [
    "conn.nebula.l1ic_size.delete_many({})"
   ]
  },
  {
   "cell_type": "code",
   "execution_count": null,
   "metadata": {},
   "outputs": [
    {
     "name": "stdout",
     "output_type": "stream",
     "text": [
      "['HOST', 'PORT', '_BaseObject__codec_options', '_BaseObject__read_concern', '_BaseObject__read_preference', '_BaseObject__write_concern', '_MongoClient__default_database_name', '_MongoClient__init_kwargs', '_MongoClient__kill_cursors_queue', '_MongoClient__lock', '_MongoClient__options', '_MongoClient__start_session', '__annotations__', '__class__', '__class_getitem__', '__delattr__', '__dict__', '__dir__', '__doc__', '__enter__', '__eq__', '__exit__', '__format__', '__ge__', '__getattr__', '__getattribute__', '__getitem__', '__gt__', '__hash__', '__init__', '__init_subclass__', '__iter__', '__le__', '__lt__', '__module__', '__ne__', '__new__', '__next__', '__orig_bases__', '__parameters__', '__reduce__', '__reduce_ex__', '__repr__', '__setattr__', '__sizeof__', '__slots__', '__str__', '__subclasshook__', '__weakref__', '_cleanup_cursor', '_close_cursor_now', '_close_cursor_soon', '_constructor_args', '_database_default_options', '_duplicate', '_encrypter', '_end_sessions', '_ensure_session', '_event_listeners', '_get_server_session', '_get_socket', '_get_topology', '_is_protocol', '_kill_cursor_impl', '_kill_cursors', '_kill_cursors_executor', '_process_kill_cursors', '_process_periodic_tasks', '_process_response', '_read_preference_for', '_repr_helper', '_retry_internal', '_retry_with_session', '_retryable_read', '_retryable_write', '_return_server_session', '_run_operation', '_select_server', '_send_cluster_time', '_server_property', '_should_pin_cursor', '_socket_for_reads', '_socket_for_writes', '_socket_from_server', '_timeout', '_tmp_session', '_topology', '_topology_settings', '_write_concern_for', 'address', 'arbiters', 'close', 'codec_options', 'drop_database', 'get_database', 'get_default_database', 'is_mongos', 'is_primary', 'list_database_names', 'list_databases', 'next', 'nodes', 'options', 'primary', 'read_concern', 'read_preference', 'secondaries', 'server_info', 'start_session', 'topology_description', 'watch', 'write_concern']\n"
     ]
    }
   ],
   "source": [
    "print(dir(conn))"
   ]
  },
  {
   "cell_type": "code",
   "execution_count": null,
   "metadata": {},
   "outputs": [
    {
     "name": "stdout",
     "output_type": "stream",
     "text": [
      "['admin', 'config', 'local', 'nebula', 'tutorial', 'ussim']\n"
     ]
    }
   ],
   "source": [
    "print(conn.list_database_names())"
   ]
  },
  {
   "cell_type": "code",
   "execution_count": null,
   "metadata": {},
   "outputs": [
    {
     "name": "stdout",
     "output_type": "stream",
     "text": [
      "['smoke', 'experiments']\n"
     ]
    }
   ],
   "source": [
    "print(conn.nebula.list_collection_names())"
   ]
  },
  {
   "cell_type": "code",
   "execution_count": null,
   "metadata": {},
   "outputs": [
    {
     "data": {
      "text/plain": [
       "dict_keys(['_id', 'sha', 'branch', 'exitcode', 'stats', 'config', 'runpath', 'pipeline', 'script', 'cmdline', 'date', 'time'])"
      ]
     },
     "execution_count": 196,
     "metadata": {},
     "output_type": "execute_result"
    }
   ],
   "source": [
    "conn.nebula.experiments.find_one().keys()"
   ]
  },
  {
   "cell_type": "code",
   "execution_count": null,
   "metadata": {},
   "outputs": [
    {
     "data": {
      "text/plain": [
       "2301"
      ]
     },
     "execution_count": 198,
     "metadata": {},
     "output_type": "execute_result"
    }
   ],
   "source": [
    "conn.nebula.experiments.find_one().get('stats').get('cycle')"
   ]
  },
  {
   "cell_type": "code",
   "execution_count": null,
   "metadata": {},
   "outputs": [
    {
     "data": {
      "text/plain": [
       "0"
      ]
     },
     "execution_count": 199,
     "metadata": {},
     "output_type": "execute_result"
    }
   ],
   "source": [
    "conn.nebula.smoke.find_one().get('exitcode')"
   ]
  }
 ],
 "metadata": {
  "kernelspec": {
   "display_name": "Python 3",
   "language": "python",
   "name": "python3"
  },
  "language_info": {
   "codemirror_mode": {
    "name": "ipython",
    "version": 3
   },
   "file_extension": ".py",
   "mimetype": "text/x-python",
   "name": "python",
   "nbconvert_exporter": "python",
   "pygments_lexer": "ipython3",
   "version": "3.10.12"
  },
  "orig_nbformat": 4
 },
 "nbformat": 4,
 "nbformat_minor": 2
}
